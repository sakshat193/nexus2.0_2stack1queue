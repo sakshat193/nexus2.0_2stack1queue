{
 "cells": [
  {
   "cell_type": "code",
   "execution_count": 72,
   "metadata": {},
   "outputs": [],
   "source": [
    "import pandas as pd\n",
    "import numpy as np\n",
    "import matplotlib.pyplot as plt\n",
    "from sklearn.model_selection import train_test_split, GridSearchCV\n",
    "from sklearn.preprocessing import LabelEncoder, StandardScaler\n",
    "from sklearn.tree import DecisionTreeClassifier\n",
    "from sklearn.ensemble import RandomForestClassifier\n",
    "from sklearn.metrics import accuracy_score, classification_report\n",
    "from imblearn.over_sampling import SMOTE\n",
    "import pickle"
   ]
  },
  {
   "cell_type": "code",
   "execution_count": 73,
   "metadata": {},
   "outputs": [],
   "source": [
    "# Save the model to a file\n",
    "def save_model(model, filename):\n",
    "    with open(filename, 'wb') as file:\n",
    "        pickle.dump(model, file)\n",
    "\n",
    "# Load the model from a file\n",
    "def load_model(filename):\n",
    "    with open(filename, 'rb') as file:\n",
    "        return pickle.load(file)\n",
    "\n",
    "# Function to encode features using saved classes and handle unknown values\n",
    "def encode_feature(feature_series, encoder_classes, unknown_value='Unknown'):\n",
    "    le = LabelEncoder()\n",
    "    le.classes_ = np.concatenate([encoder_classes, [unknown_value]])\n",
    "    encoded = feature_series.map(lambda x: x if x in encoder_classes else unknown_value)\n",
    "    return le.transform(encoded)\n",
    "\n",
    "# Function to preprocess the data (handles missing values, encoding, normalization, and SMOTE)\n",
    "def preprocess_data(X, y=None, test=False):\n",
    "    # Handle missing values\n",
    "    X = X.fillna('Unknown')\n",
    "\n",
    "    # Encode categorical variables and save the encoders\n",
    "    le_dict = {}\n",
    "    for feature in X.columns:\n",
    "        if X[feature].dtype == 'object':\n",
    "            le = LabelEncoder()\n",
    "            X[feature] = le.fit_transform(X[feature])\n",
    "            if not test:  # Save encoder only when not in test mode\n",
    "                np.save(f'{feature}_encoder_classes.npy', le.classes_)\n",
    "            le_dict[feature] = le\n",
    "\n",
    "    # Normalize numerical features\n",
    "    scaler = StandardScaler()\n",
    "    X = pd.DataFrame(scaler.fit_transform(X), columns=X.columns)\n",
    "    \n",
    "    # Handle class imbalance with SMOTE (for training only)\n",
    "    if y is not None and not test:\n",
    "        smote = SMOTE(k_neighbors=2, random_state=42)\n",
    "        X, y = smote.fit_resample(X, y)\n",
    "        print(f\"After SMOTE: X shape = {X.shape}, y shape = {y.shape}\")  # Debugging step to check dimensions\n",
    "    \n",
    "    return X, y, le_dict, scaler\n",
    "\n",
    "# Function to encode the target variable and save encoder\n",
    "def encode_target(y, test=False):\n",
    "    le_target = LabelEncoder()\n",
    "    if not test:\n",
    "        y = le_target.fit_transform(y)\n",
    "        np.save('target_status_classes.npy', le_target.classes_)\n",
    "    else:\n",
    "        encoder_classes = np.load('target_status_classes.npy', allow_pickle=True)\n",
    "        le_target.classes_ = encoder_classes\n",
    "        y = le_target.transform(y)\n",
    "    return y, le_target"
   ]
  },
  {
   "cell_type": "code",
   "execution_count": 74,
   "metadata": {},
   "outputs": [
    {
     "name": "stdout",
     "output_type": "stream",
     "text": [
      "Target_Status\n",
      "Approved                           31031\n",
      "Phase 2                            29621\n",
      "Phase 1                            16912\n",
      "Phase 3                            15514\n",
      "Investigative                       9174\n",
      "Phase 1/2                           6160\n",
      "Discontinued in Phase 2             5815\n",
      "Terminated                          5234\n",
      "Patented                            3055\n",
      "Discontinued in Phase 3             2510\n",
      "Discontinued in Phase 1             2379\n",
      "Preclinical                         1978\n",
      "Withdrawn from market               1519\n",
      "Phase 2/3                           1432\n",
      "Phase 4                              507\n",
      "Clinical trial                       348\n",
      "Preregistration                      228\n",
      "Phase 1b                             157\n",
      "Phase 2a                             135\n",
      "Discontinued in Preregistration      131\n",
      "Discontinued in Phase 1/2            129\n",
      "Registered                           121\n",
      "Approved (orphan drug)               105\n",
      "Application submitted                 80\n",
      "IND submitted                         65\n",
      "Discontinued in Phase 2/3             48\n",
      "Phase 2b                              26\n",
      "Phase 0                               16\n",
      "Discontinued in Phase 4               15\n",
      "BLA submitted                         14\n",
      "Phase 1/2a                            13\n",
      "Discontinued in Phase 2b              10\n",
      "Phase 1b/2a                            4\n",
      "Name: count, dtype: int64\n"
     ]
    }
   ],
   "source": [
    "# Load the dataset\n",
    "df = pd.read_csv(\"train.csv\")\n",
    "print(df['Target_Status'].value_counts())"
   ]
  },
  {
   "cell_type": "code",
   "execution_count": 75,
   "metadata": {},
   "outputs": [],
   "source": [
    "df['Drug_high_status'].unique()\n",
    "df['Drug_high_status'] = df['Drug_high_status'].replace('approved', 'Approved')"
   ]
  },
  {
   "cell_type": "code",
   "execution_count": 76,
   "metadata": {},
   "outputs": [],
   "source": [
    "# Remove unwanted columns\n",
    "columns_to_remove = ['ID', 'TargetID', 'DRUGID', 'PUBCHCID', 'UNIPROID', 'SYNONYMS', \n",
    "                     'FUNCTION', 'SEQUENCE', 'Accession Number']\n",
    "df.drop(columns=columns_to_remove, inplace=True)"
   ]
  },
  {
   "cell_type": "code",
   "execution_count": 77,
   "metadata": {},
   "outputs": [
    {
     "name": "stdout",
     "output_type": "stream",
     "text": [
      "After SMOTE: X shape = (1024023, 6), y shape = (1024023,)\n",
      "X shape: (1024023, 6), y_encoded shape: (1024023,)\n"
     ]
    }
   ],
   "source": [
    "# Select the features and target (excluding DRUGTYPE and Drug_Status)\n",
    "features = ['DRUGNAME', 'Disease_of_highest_status', 'TARGNAME', 'GENENAME', 'BIOCLASS', 'Disease']\n",
    "X = df[features].copy()  \n",
    "y = df['Target_Status'].copy()\n",
    "\n",
    "# Preprocess the training data\n",
    "X, y_encoded, le_dict, scaler = preprocess_data(X, y)\n",
    "y_encoded, le_target = encode_target(y_encoded)\n",
    "\n",
    "# Check if X and y_encoded have the same number of rows\n",
    "print(f\"X shape: {X.shape}, y_encoded shape: {y_encoded.shape}\") "
   ]
  },
  {
   "cell_type": "code",
   "execution_count": 78,
   "metadata": {},
   "outputs": [
    {
     "name": "stdout",
     "output_type": "stream",
     "text": [
      "Training set shapes: X_train = (686095, 6), y_train = (686095,)\n",
      "Test set shapes: X_test = (337928, 6), y_test = (337928,)\n"
     ]
    }
   ],
   "source": [
    "# Split the data\n",
    "X_train, X_test, y_train, y_test = train_test_split(X, y_encoded, test_size=0.33, random_state=42)\n",
    "\n",
    "\n",
    "print(f\"Training set shapes: X_train = {X_train.shape}, y_train = {y_train.shape}\")\n",
    "print(f\"Test set shapes: X_test = {X_test.shape}, y_test = {y_test.shape}\")"
   ]
  },
  {
   "cell_type": "code",
   "execution_count": 79,
   "metadata": {},
   "outputs": [
    {
     "name": "stdout",
     "output_type": "stream",
     "text": [
      "Fitting 5 folds for each of 6 candidates, totalling 30 fits\n",
      "Best Decision Tree Parameters: {'criterion': 'entropy', 'max_depth': None, 'max_features': None, 'min_samples_leaf': 1, 'min_samples_split': 2}\n",
      "Decision Tree Accuracy: 99.22%\n",
      "\n",
      "Decision Tree Classification Report:\n",
      "              precision    recall  f1-score   support\n",
      "\n",
      "           0       1.00      1.00      1.00     10386\n",
      "           1       0.98      0.99      0.99     10194\n",
      "           2       1.00      1.00      1.00     10257\n",
      "           3       1.00      1.00      1.00     10334\n",
      "           4       1.00      1.00      1.00     10313\n",
      "           5       0.99      0.99      0.99     10180\n",
      "           6       1.00      1.00      1.00     10126\n",
      "           7       0.98      0.98      0.98     10234\n",
      "           8       1.00      1.00      1.00     10213\n",
      "           9       1.00      1.00      1.00     10477\n",
      "          10       0.99      0.99      0.99     10253\n",
      "          11       1.00      1.00      1.00     10141\n",
      "          12       1.00      1.00      1.00     10213\n",
      "          13       1.00      1.00      1.00     10123\n",
      "          14       0.97      0.97      0.97     10121\n",
      "          15       0.99      0.99      0.99     10281\n",
      "          16       1.00      1.00      1.00     10242\n",
      "          17       0.96      0.96      0.96     10326\n",
      "          18       0.98      0.98      0.98     10248\n",
      "          19       1.00      1.00      1.00     10123\n",
      "          20       1.00      1.00      1.00     10297\n",
      "          21       1.00      1.00      1.00     10331\n",
      "          22       0.97      0.98      0.97     10124\n",
      "          23       1.00      0.99      0.99     10404\n",
      "          24       1.00      1.00      1.00     10119\n",
      "          25       1.00      1.00      1.00     10222\n",
      "          26       0.97      0.96      0.97     10162\n",
      "          27       1.00      1.00      1.00     10279\n",
      "          28       0.99      0.99      0.99     10314\n",
      "          29       1.00      1.00      1.00     10261\n",
      "          30       1.00      1.00      1.00     10119\n",
      "          31       0.98      0.98      0.98     10268\n",
      "          32       1.00      1.00      1.00     10243\n",
      "\n",
      "    accuracy                           0.99    337928\n",
      "   macro avg       0.99      0.99      0.99    337928\n",
      "weighted avg       0.99      0.99      0.99    337928\n",
      "\n"
     ]
    }
   ],
   "source": [
    "# 1. Decision Tree Classifier with Grid Search for Hyperparameter Tuning\n",
    "dt_classifier = DecisionTreeClassifier(random_state=42)\n",
    "\n",
    "# Define the parameter grid to search over for Decision Tree\n",
    "dt_param_grid = {\n",
    "    'criterion':  ['entropy'],          \n",
    "    'max_depth': [None],                \n",
    "    'min_samples_split': [2, 10],       \n",
    "    'min_samples_leaf': [1, 5, 10],     \n",
    "    'max_features': [None]              \n",
    "}\n",
    "\n",
    "# Initialize GridSearchCV for Decision Tree\n",
    "dt_grid_search = GridSearchCV(estimator=dt_classifier, param_grid=dt_param_grid, \n",
    "                              scoring='accuracy', n_jobs=-1, verbose=1)\n",
    "\n",
    "# Train the classifier using grid search\n",
    "dt_grid_search.fit(X_train, y_train)\n",
    "\n",
    "# Get the best parameters and classifier for Decision Tree\n",
    "best_dt_params = dt_grid_search.best_params_\n",
    "best_dt_classifier = dt_grid_search.best_estimator_\n",
    "\n",
    "# Make predictions on the test data using the best Decision Tree classifier\n",
    "y_dt_pred = best_dt_classifier.predict(X_test)\n",
    "\n",
    "# Evaluate Decision Tree classifier\n",
    "dt_accuracy = accuracy_score(y_test, y_dt_pred)\n",
    "print(f\"Best Decision Tree Parameters: {best_dt_params}\")\n",
    "print(f\"Decision Tree Accuracy: {dt_accuracy * 100:.2f}%\")\n",
    "print(\"\\nDecision Tree Classification Report:\")\n",
    "print(classification_report(y_test, y_dt_pred))"
   ]
  },
  {
   "cell_type": "code",
   "execution_count": 80,
   "metadata": {},
   "outputs": [
    {
     "name": "stdout",
     "output_type": "stream",
     "text": [
      "\n",
      "Best Model Accuracy: 99.2232%\n",
      "\n",
      "Best Model Classification Report:\n",
      "              precision    recall  f1-score   support\n",
      "\n",
      "           0       1.00      1.00      1.00     10386\n",
      "           1       0.98      0.99      0.99     10194\n",
      "           2       1.00      1.00      1.00     10257\n",
      "           3       1.00      1.00      1.00     10334\n",
      "           4       1.00      1.00      1.00     10313\n",
      "           5       0.99      0.99      0.99     10180\n",
      "           6       1.00      1.00      1.00     10126\n",
      "           7       0.98      0.98      0.98     10234\n",
      "           8       1.00      1.00      1.00     10213\n",
      "           9       1.00      1.00      1.00     10477\n",
      "          10       0.99      0.99      0.99     10253\n",
      "          11       1.00      1.00      1.00     10141\n",
      "          12       1.00      1.00      1.00     10213\n",
      "          13       1.00      1.00      1.00     10123\n",
      "          14       0.97      0.97      0.97     10121\n",
      "          15       0.99      0.99      0.99     10281\n",
      "          16       1.00      1.00      1.00     10242\n",
      "          17       0.96      0.96      0.96     10326\n",
      "          18       0.98      0.98      0.98     10248\n",
      "          19       1.00      1.00      1.00     10123\n",
      "          20       1.00      1.00      1.00     10297\n",
      "          21       1.00      1.00      1.00     10331\n",
      "          22       0.97      0.98      0.97     10124\n",
      "          23       1.00      0.99      0.99     10404\n",
      "          24       1.00      1.00      1.00     10119\n",
      "          25       1.00      1.00      1.00     10222\n",
      "          26       0.97      0.96      0.97     10162\n",
      "          27       1.00      1.00      1.00     10279\n",
      "          28       0.99      0.99      0.99     10314\n",
      "          29       1.00      1.00      1.00     10261\n",
      "          30       1.00      1.00      1.00     10119\n",
      "          31       0.98      0.98      0.98     10268\n",
      "          32       1.00      1.00      1.00     10243\n",
      "\n",
      "    accuracy                           0.99    337928\n",
      "   macro avg       0.99      0.99      0.99    337928\n",
      "weighted avg       0.99      0.99      0.99    337928\n",
      "\n"
     ]
    }
   ],
   "source": [
    "best_classifier = best_dt_classifier\n",
    "y_pred = y_dt_pred\n",
    "\n",
    "# Evaluate the best model\n",
    "best_accuracy = accuracy_score(y_test, y_pred)\n",
    "print(f\"\\nBest Model Accuracy: {best_accuracy * 100:.4f}%\")\n",
    "print(\"\\nBest Model Classification Report:\")\n",
    "print(classification_report(y_test, y_pred))\n"
   ]
  },
  {
   "cell_type": "code",
   "execution_count": 81,
   "metadata": {},
   "outputs": [
    {
     "data": {
      "image/png": "[encoded data removed]",
      "text/plain": [
       "<Figure size 1000x600 with 1 Axes>"
      ]
     },
     "metadata": {},
     "output_type": "display_data"
    }
   ],
   "source": [
    "importances = pd.Series(best_classifier.feature_importances_, index=X.columns).sort_values(ascending=False)\n",
    "plt.figure(figsize=(10, 6))\n",
    "importances.plot(kind='bar')\n",
    "plt.title('Feature Importances for Target_Status')\n",
    "plt.xlabel('Features')\n",
    "plt.ylabel('Importance')\n",
    "plt.tight_layout()\n",
    "plt.show()"
   ]
  },
  {
   "cell_type": "code",
   "execution_count": 82,
   "metadata": {},
   "outputs": [],
   "source": [
    "# Load and preprocess the test dataset\n",
    "test_df = pd.read_csv(\"test.csv\")\n",
    "X_test = test_df[features].copy()\n",
    "\n",
    "# Encode the test dataset using the saved encoders\n",
    "for feature in features:\n",
    "    if X_test[feature].dtype == 'object':\n",
    "        encoder_classes = np.load(f'{feature}_encoder_classes.npy', allow_pickle=True)\n",
    "        X_test[feature] = encode_feature(X_test[feature], encoder_classes)\n",
    "\n",
    "# Scale the test data using the scaler fitted on the training data\n",
    "X_test = pd.DataFrame(scaler.transform(X_test), columns=X_test.columns)\n",
    "\n",
    "# Make predictions on the test set\n",
    "y_pred_encoded = best_classifier.predict(X_test)\n",
    "\n",
    "# Decode the predictions back to original labels\n",
    "y_pred = le_target.inverse_transform(y_pred_encoded)\n",
    "\n",
    "# Create submission DataFrame\n",
    "submission = pd.DataFrame({\n",
    "    'ID': test_df['ID'],\n",
    "    'Prediction': y_pred\n",
    "})"
   ]
  },
  {
   "cell_type": "code",
   "execution_count": 83,
   "metadata": {},
   "outputs": [
    {
     "name": "stdout",
     "output_type": "stream",
     "text": [
      "Submission file created: submission.csv\n",
      "\n",
      "First few rows of the submission file:\n",
      "       ID Prediction\n",
      "0    1076   Approved\n",
      "1  190816    Phase 3\n",
      "2  180551    Phase 3\n",
      "3   51630   Approved\n",
      "4   50566  Phase 1/2\n",
      "\n",
      "Missing values in submission file:\n",
      "ID            0\n",
      "Prediction    0\n",
      "dtype: int64\n"
     ]
    }
   ],
   "source": [
    "# Save the submission file\n",
    "submission.to_csv('submission.csv', index=False)\n",
    "print(\"Submission file created: submission.csv\")\n",
    "\n",
    "# Display the first few rows of the submission file\n",
    "print(\"\\nFirst few rows of the submission file:\")\n",
    "print(submission.head())\n",
    "\n",
    "# Check for missing values\n",
    "print(\"\\nMissing values in submission file:\")\n",
    "print(submission.isnull().sum())"
   ]
  },
  {
   "cell_type": "code",
   "execution_count": null,
   "metadata": {},
   "outputs": [],
   "source": []
  }
 ],
 "metadata": {
  "kernelspec": {
   "display_name": "Python 3",
   "language": "python",
   "name": "python3"
  },
  "language_info": {
   "codemirror_mode": {
    "name": "ipython",
    "version": 3
   },
   "file_extension": ".py",
   "mimetype": "text/x-python",
   "name": "python",
   "nbconvert_exporter": "python",
   "pygments_lexer": "ipython3",
   "version": "3.12.6"
  }
 },
 "nbformat": 4,
 "nbformat_minor": 2
}
